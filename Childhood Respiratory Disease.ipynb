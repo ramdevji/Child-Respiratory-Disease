{
 "cells": [
  {
   "cell_type": "markdown",
   "metadata": {},
   "source": [
    "# Overview"
   ]
  },
  {
   "cell_type": "markdown",
   "metadata": {},
   "source": [
    "<b>Regression is nothing it is just fitting the best line or curve or any other equation on dataset such that that equation gives minimum error and hence can be used further for prediction of the Unknown data.It is very basic and first to learn algorithm of machine Learning.</b><br><br>\n",
    "Multiple regression equation:<br>\n",
    "y=a1X1+a2X2......apXp+error.<br><br>\n",
    "This Project is focusing on the Multiple regression where the independent and dependent variables are as follows.<br><br>\n",
    "<b>Independent Variables:</b><br>\n",
    "<ul><li>Smoke</li>\n",
    "    <li>Age</li>\n",
    "    <li>Height</li>\n",
    "    </ul>\n",
    "<b>Dependent variable:</b><br>\n",
    "FEV<br><br>\n",
    "This project is based on various regression models.Using different regression equations on a particular data set to analyse\n",
    "relationship between respiratory function(with the help of FEV measured) and smoking.\n",
    "\n"
   ]
  },
  {
   "cell_type": "markdown",
   "metadata": {},
   "source": [
    "<b><u>Main target:</u></b><br><br>\n",
    " <space>To analyse whether smoking causes reduced plumonary function."
   ]
  },
  {
   "cell_type": "markdown",
   "metadata": {},
   "source": [
    "1. About the dataset:<br>\n",
    "A dataset concerning the relationship between respiratory function (measured by forced expiratory volume, FEV) and smoking.\n",
    "FEV (forced expiratory volume) is an index of pulmonary function that measures the volume of air expelled after one second of constant effort. The data contains determinations of <b>FEV on 654 children ages 6-22</b> who were seen in the Childhood Respiratory Desease Study. The data are part of a larger study to follow the change in pulmonary function over time in children.\n",
    "\n"
   ]
  },
  {
   "cell_type": "markdown",
   "metadata": {},
   "source": [
    "# Feature Vector"
   ]
  },
  {
   "cell_type": "markdown",
   "metadata": {},
   "source": [
    "ID\t - \tID number<br>\n",
    "Age\t - \tyears<br>\n",
    "FEV\t - \tlitres<br>\n",
    "Height\t - \tinches<br>\n",
    "Sex\t - \tMale or Female<br>\n",
    "Smoker\t - \tNon = nonsmoker, Current = current smoker\n"
   ]
  },
  {
   "cell_type": "markdown",
   "metadata": {},
   "source": [
    "# Analyses"
   ]
  },
  {
   "cell_type": "markdown",
   "metadata": {},
   "source": [
    "Our primary analyses is whether smokers suffer reduced plumonary function.<br>\n",
    "You must learn what is FEV and how it is measured to get insight of the data and to use it properly.\n",
    "<br>\n",
    "Now the very basic analysis of the data as we have done in our class 12 is shown below.\n",
    "<br>\n",
    "<table>\n",
    "    <tr>\n",
    "        <td>Variable</td>\n",
    "        <td>Smoke</td>\n",
    "        <td>No of sample</td>\n",
    "        <td>Mean</td>\n",
    "        <td>Median</td>\n",
    "        <td>Standard Deviation</td>\n",
    "    </tr>\n",
    "    <tr>\n",
    "        <td rowspan=2>FEV</td>\n",
    "        <td>No</td>\n",
    "        <td>589</td>\n",
    "        <td>2.5661</td>\n",
    "        <td>2.4650</td>\n",
    "        <td>0.8505</td>\n",
    "    </tr>\n",
    "    <tr>\n",
    "        <td>Yes</td>\n",
    "        <td>65</td>\n",
    "        <td>3.2769</td>\n",
    "        <td>3.1690</td>\n",
    "        <td>0.7500</td>\n",
    "    </tr>\n",
    "</table>\n",
    "    "
   ]
  },
  {
   "cell_type": "markdown",
   "metadata": {},
   "source": [
    "From the above very basic analyses of the data we can say that FEV for the non-smoker is certainly high.So can We say that smoking is good for health.\n"
   ]
  },
  {
   "cell_type": "markdown",
   "metadata": {},
   "source": [
    "So We analysed the data directly without considering the fact such as<br>\n",
    "1.FEV depends on the height as more hieght person can have    large lungs and &nbsp; hence air can be exhaled large in the   &nbsp;amount.\n",
    "<br><br>\n",
    "2.FEV depends on the age also.\n",
    "<br><br>\n",
    "<b><u>So our basic analyses fails here.</u></b>\n"
   ]
  },
  {
   "cell_type": "markdown",
   "metadata": {},
   "source": [
    "<b>Relations among the variables</b><br>\n",
    "As there are total four variable 3 are independent and 1 is dependent on<br>\n",
    "which analyses is to be performed.So there can be six relationship among<br>\n",
    "all the variables which are shown in the attached image</br>\n"
   ]
  },
  {
   "cell_type": "markdown",
   "metadata": {},
   "source": [
    "<b>Assigning the data to the dependent and independent variables and then doing the comparison among them.</b></br>"
   ]
  },
  {
   "cell_type": "markdown",
   "metadata": {},
   "source": [
    "<b>Model 1.&nbsp;Performing Linear regression on all three independent variables vs dependent variable FEV</b>"
   ]
  },
  {
   "cell_type": "code",
   "execution_count": 19,
   "metadata": {},
   "outputs": [
    {
     "data": {
      "image/png": "[encoded data removed]",
      "text/plain": [
       "<Figure size 432x288 with 1 Axes>"
      ]
     },
     "metadata": {
      "needs_background": "light"
     },
     "output_type": "display_data"
    },
    {
     "name": "stdout",
     "output_type": "stream",
     "text": [
      "                            OLS Regression Results                            \n",
      "==============================================================================\n",
      "Dep. Variable:                      y   R-squared:                       0.060\n",
      "Model:                            OLS   Adj. R-squared:                  0.059\n",
      "Method:                 Least Squares   F-statistic:                     41.79\n",
      "Date:                Mon, 04 Mar 2019   Prob (F-statistic):           1.99e-10\n",
      "Time:                        00:10:56   Log-Likelihood:                -813.88\n",
      "No. Observations:                 654   AIC:                             1632.\n",
      "Df Residuals:                     652   BIC:                             1641.\n",
      "Df Model:                           1                                         \n",
      "Covariance Type:            nonrobust                                         \n",
      "==============================================================================\n",
      "                 coef    std err          t      P>|t|      [0.025      0.975]\n",
      "------------------------------------------------------------------------------\n",
      "Intercept      2.5661      0.035     74.037      0.000       2.498       2.634\n",
      "smoker         0.7107      0.110      6.464      0.000       0.495       0.927\n",
      "==============================================================================\n",
      "Omnibus:                       55.456   Durbin-Watson:                   1.094\n",
      "Prob(Omnibus):                  0.000   Jarque-Bera (JB):               67.952\n",
      "Skew:                           0.736   Prob(JB):                     1.76e-15\n",
      "Kurtosis:                       3.570   Cond. No.                         3.38\n",
      "==============================================================================\n",
      "\n",
      "Warnings:\n",
      "[1] Standard Errors assume that the covariance matrix of the errors is correctly specified.\n"
     ]
    }
   ],
   "source": [
    "import pandas as pd\n",
    "import numpy as np\n",
    "import statsmodels.api as sm \n",
    "import statsmodels.formula.api as smf\n",
    "#Statsmodels library do the statistics calculations automatically.\n",
    "#You don't have to do all that calculations to get regression equation and P-value R^2(adjusted) values for any regression.\n",
    "#R defines the relations between the dependent variable and independent variable.How strong it is.\n",
    "#Import Library Pandas\n",
    "import matplotlib.pyplot as plt \n",
    "#For plotting different graphs\n",
    "df = pd.read_csv(\"fev.txt\",delimiter='\t')\n",
    "#Reading the dataset in a dataframe using Pandas\n",
    "smoker=[]\n",
    "y=[]\n",
    "#creating a list smoker and assigning all Smoker values to it and similarly FEV to y.\n",
    "smoker=df['Smoker']\n",
    "y=df['FEV']\n",
    "# We consider non-smoker as 0 and smoker as 1.So assigning them into list.\n",
    "plt.scatter(smoker, y, label= \".\", color= \"red\",  \n",
    "            marker= \".\", s=30) \n",
    "plt.xlabel('Smoker') \n",
    "# naming the y axis \n",
    "plt.ylabel('FEV') \n",
    "  \n",
    "# giving a title to my graph \n",
    "plt.title('FEV vs Smoker') \n",
    "# function to show the plot \n",
    "plt.show() \n",
    "model1 = smf.ols(\"y~smoker\",data=smoker).fit()\n",
    "#sets y as dependent variable.\n",
    "# Print the summary\n",
    "print(model1.summary())\n"
   ]
  },
  {
   "cell_type": "markdown",
   "metadata": {},
   "source": [
    "From the above linear regression model analyses we come to the following results<br>\n",
    "1.Regression equation<br><br>\n",
    "    <b>fev = 2.5661 + 0.7107smoke</b><br>\n",
    "2.Adjusted R-squared is <b>5.9%</b> which is very very low.<br><b>\n",
    "So this model make no sense about the relation between FEV and smoking discarding other<br> independent variables such as age and height.</b>\n"
   ]
  },
  {
   "cell_type": "markdown",
   "metadata": {},
   "source": [
    "<b><u>2.Now we analyses FEV vs height</u></b>"
   ]
  },
  {
   "cell_type": "code",
   "execution_count": 32,
   "metadata": {},
   "outputs": [
    {
     "data": {
      "image/png": "[encoded data removed]",
      "text/plain": [
       "<Figure size 432x288 with 1 Axes>"
      ]
     },
     "metadata": {
      "needs_background": "light"
     },
     "output_type": "display_data"
    },
    {
     "name": "stdout",
     "output_type": "stream",
     "text": [
      "                            OLS Regression Results                            \n",
      "==============================================================================\n",
      "Dep. Variable:                      y   R-squared:                       0.754\n",
      "Model:                            OLS   Adj. R-squared:                  0.753\n",
      "Method:                 Least Squares   F-statistic:                     1995.\n",
      "Date:                Mon, 04 Mar 2019   Prob (F-statistic):          1.57e-200\n",
      "Time:                        01:00:27   Log-Likelihood:                -376.05\n",
      "No. Observations:                 654   AIC:                             756.1\n",
      "Df Residuals:                     652   BIC:                             765.1\n",
      "Df Model:                           1                                         \n",
      "Covariance Type:            nonrobust                                         \n",
      "==============================================================================\n",
      "                 coef    std err          t      P>|t|      [0.025      0.975]\n",
      "------------------------------------------------------------------------------\n",
      "Intercept     -5.4327      0.181    -29.939      0.000      -5.789      -5.076\n",
      "Height         0.1320      0.003     44.662      0.000       0.126       0.138\n",
      "==============================================================================\n",
      "Omnibus:                       37.490   Durbin-Watson:                   1.608\n",
      "Prob(Omnibus):                  0.000   Jarque-Bera (JB):               91.349\n",
      "Skew:                           0.284   Prob(JB):                     1.46e-20\n",
      "Kurtosis:                       4.740   Cond. No.                         662.\n",
      "==============================================================================\n",
      "\n",
      "Warnings:\n",
      "[1] Standard Errors assume that the covariance matrix of the errors is correctly specified.\n"
     ]
    }
   ],
   "source": [
    "import pandas as pd\n",
    "import numpy as np\n",
    "import statsmodels.api as sm \n",
    "import statsmodels.formula.api as smf\n",
    "import matplotlib.pyplot as plt \n",
    "df = pd.read_csv(\"fev.txt\",delimiter='\t')\n",
    "Height=df['Height']\n",
    "y=df['FEV']\n",
    "plt.scatter(Height, y, label= \".\", color= \"red\",  \n",
    "            marker= \".\", s=30) \n",
    "plt.xlabel('Height')  \n",
    "plt.ylabel('FEV')  \n",
    "plt.title('FEV vs Height')  \n",
    "plt.show() \n",
    "model1 = smf.ols(\"y~Height\",data=Height).fit()\n",
    "print(model1.summary())\n"
   ]
  },
  {
   "cell_type": "markdown",
   "metadata": {},
   "source": [
    "<b>The analyses results are as follows:<br>\n",
    "    1.From the graph itself it is predicted that there is strong relation.Moreover here we can fit quadratic then linear<br>\n",
    "    2.The R-squared adjusted is 75.3% which is quite significant.<br>\n",
    "    3.This is also true as height is large,larger are lungs and more exhale of air.<br>\n",
    "    4.Our target was to analyse the relationship between FEV and smoking so this alone variable cannot be considered.\n",
    "    <br>\n",
    "    (See the last model and it's observation to understand more completely)\n",
    "    </b>"
   ]
  },
  {
   "cell_type": "markdown",
   "metadata": {},
   "source": [
    "<b><u>2.Now we analyses FEV vs Age</u></b>"
   ]
  },
  {
   "cell_type": "code",
   "execution_count": 31,
   "metadata": {},
   "outputs": [
    {
     "data": {
      "image/png": "[encoded data removed]",
      "text/plain": [
       "<Figure size 432x288 with 1 Axes>"
      ]
     },
     "metadata": {
      "needs_background": "light"
     },
     "output_type": "display_data"
    },
    {
     "name": "stdout",
     "output_type": "stream",
     "text": [
      "                            OLS Regression Results                            \n",
      "==============================================================================\n",
      "Dep. Variable:                      y   R-squared:                       0.572\n",
      "Model:                            OLS   Adj. R-squared:                  0.572\n",
      "Method:                 Least Squares   F-statistic:                     872.2\n",
      "Date:                Mon, 04 Mar 2019   Prob (F-statistic):          2.45e-122\n",
      "Time:                        01:00:03   Log-Likelihood:                -556.51\n",
      "No. Observations:                 654   AIC:                             1117.\n",
      "Df Residuals:                     652   BIC:                             1126.\n",
      "Df Model:                           1                                         \n",
      "Covariance Type:            nonrobust                                         \n",
      "==============================================================================\n",
      "                 coef    std err          t      P>|t|      [0.025      0.975]\n",
      "------------------------------------------------------------------------------\n",
      "Intercept      0.4316      0.078      5.541      0.000       0.279       0.585\n",
      "Age            0.2220      0.008     29.533      0.000       0.207       0.237\n",
      "==============================================================================\n",
      "Omnibus:                       35.892   Durbin-Watson:                   1.608\n",
      "Prob(Omnibus):                  0.000   Jarque-Bera (JB):               51.347\n",
      "Skew:                           0.454   Prob(JB):                     7.08e-12\n",
      "Kurtosis:                       4.030   Cond. No.                         36.7\n",
      "==============================================================================\n",
      "\n",
      "Warnings:\n",
      "[1] Standard Errors assume that the covariance matrix of the errors is correctly specified.\n"
     ]
    }
   ],
   "source": [
    "import pandas as pd\n",
    "import numpy as np\n",
    "import statsmodels.api as sm \n",
    "import statsmodels.formula.api as smf\n",
    "import matplotlib.pyplot as plt \n",
    "df = pd.read_csv(\"fev.txt\",delimiter='\t')\n",
    "Age=df['Age']\n",
    "y=df['FEV']\n",
    "plt.scatter(Age, y, label= \".\", color= \"red\",  \n",
    "            marker= \".\", s=30) \n",
    "plt.xlabel('Age')  \n",
    "plt.ylabel('FEV')  \n",
    "plt.title('FEV vs Age')  \n",
    "plt.show() \n",
    "model1 = smf.ols(\"y~Age\",data=Age).fit()\n",
    "print(model1.summary())\n"
   ]
  },
  {
   "cell_type": "markdown",
   "metadata": {},
   "source": [
    "<b>Observations</b><br>\n",
    "R-squared adjusted is 57.2%."
   ]
  },
  {
   "cell_type": "markdown",
   "metadata": {},
   "source": [
    "# Model 2"
   ]
  },
  {
   "cell_type": "markdown",
   "metadata": {},
   "source": [
    "<b>Performing different Multiple regression and then choosing the best fit Model</b>"
   ]
  },
  {
   "cell_type": "markdown",
   "metadata": {},
   "source": [
    "# 2.1"
   ]
  },
  {
   "cell_type": "markdown",
   "metadata": {},
   "source": [
    "Description:<br>\n",
    "Independent Variables are Age and Smoke.<br>\n",
    "Dependent is FEV<br>\n"
   ]
  },
  {
   "cell_type": "code",
   "execution_count": 43,
   "metadata": {},
   "outputs": [
    {
     "name": "stdout",
     "output_type": "stream",
     "text": [
      "                            OLS Regression Results                            \n",
      "==============================================================================\n",
      "Dep. Variable:                      y   R-squared:                       0.577\n",
      "Model:                            OLS   Adj. R-squared:                  0.575\n",
      "Method:                 Least Squares   F-statistic:                     443.3\n",
      "Date:                Mon, 04 Mar 2019   Prob (F-statistic):          3.25e-122\n",
      "Time:                        01:14:57   Log-Likelihood:                -553.17\n",
      "No. Observations:                 654   AIC:                             1112.\n",
      "Df Residuals:                     651   BIC:                             1126.\n",
      "Df Model:                           2                                         \n",
      "Covariance Type:            nonrobust                                         \n",
      "==============================================================================\n",
      "                 coef    std err          t      P>|t|      [0.025      0.975]\n",
      "------------------------------------------------------------------------------\n",
      "Intercept      0.3674      0.081      4.511      0.000       0.207       0.527\n",
      "x[0]           0.2306      0.008     28.176      0.000       0.215       0.247\n",
      "x[1]          -0.2090      0.081     -2.588      0.010      -0.368      -0.050\n",
      "==============================================================================\n",
      "Omnibus:                       37.843   Durbin-Watson:                   1.635\n",
      "Prob(Omnibus):                  0.000   Jarque-Bera (JB):               51.741\n",
      "Skew:                           0.490   Prob(JB):                     5.82e-12\n",
      "Kurtosis:                       3.969   Cond. No.                         43.7\n",
      "==============================================================================\n",
      "\n",
      "Warnings:\n",
      "[1] Standard Errors assume that the covariance matrix of the errors is correctly specified.\n"
     ]
    }
   ],
   "source": [
    "import pandas as pd\n",
    "import numpy as np\n",
    "import statsmodels.api as sm \n",
    "import statsmodels.formula.api as smf\n",
    "import matplotlib.pyplot as plt \n",
    "df = pd.read_csv(\"fev.txt\",delimiter='\t')\n",
    "x=df[['Age','Smoker']]\n",
    "y=df['FEV']\n",
    "model2 = smf.ols(\"y~x\",data=x).fit()\n",
    "print(model2.summary())\n"
   ]
  },
  {
   "cell_type": "markdown",
   "metadata": {},
   "source": [
    "<b>Observations:<br>\n",
    "    The regression equation is<br>\n",
    "<u>fev = 0.367 + 0.231 age - 0.209 smoke</u>\n",
    "<br>\n",
    "S = 0.5651\tR-Sq = 57.7%\tR-Sq(adj) = 57.5%<br>\n",
    "This provides an estimate of the average difference between smokers' and nonsmokers' FEV conditional on AGE.<br>\n",
    "For smokers and nonsmokers of the same age we expect, on average, that the nonsmokers' FEV is .2 liters larger than the smokers' FEV.</b>"
   ]
  },
  {
   "cell_type": "markdown",
   "metadata": {},
   "source": [
    "# 2.2"
   ]
  },
  {
   "cell_type": "markdown",
   "metadata": {},
   "source": [
    "Description:<br>\n",
    "Independent Variables are Age,Smoke and Height<br>\n",
    "Dependent is FEV<br>\n"
   ]
  },
  {
   "cell_type": "code",
   "execution_count": 45,
   "metadata": {},
   "outputs": [
    {
     "name": "stdout",
     "output_type": "stream",
     "text": [
      "                            OLS Regression Results                            \n",
      "==============================================================================\n",
      "Dep. Variable:                      y   R-squared:                       0.768\n",
      "Model:                            OLS   Adj. R-squared:                  0.767\n",
      "Method:                 Least Squares   F-statistic:                     715.7\n",
      "Date:                Mon, 04 Mar 2019   Prob (F-statistic):          1.86e-205\n",
      "Time:                        01:16:37   Log-Likelihood:                -356.98\n",
      "No. Observations:                 654   AIC:                             722.0\n",
      "Df Residuals:                     650   BIC:                             739.9\n",
      "Df Model:                           3                                         \n",
      "Covariance Type:            nonrobust                                         \n",
      "==============================================================================\n",
      "                 coef    std err          t      P>|t|      [0.025      0.975]\n",
      "------------------------------------------------------------------------------\n",
      "Intercept     -4.6160      0.224    -20.618      0.000      -5.056      -4.176\n",
      "x[0]           0.0597      0.010      6.247      0.000       0.041       0.079\n",
      "x[1]          -0.1102      0.060     -1.837      0.067      -0.228       0.008\n",
      "x[2]           0.1091      0.005     23.115      0.000       0.100       0.118\n",
      "==============================================================================\n",
      "Omnibus:                       31.673   Durbin-Watson:                   1.661\n",
      "Prob(Omnibus):                  0.000   Jarque-Bera (JB):               64.104\n",
      "Skew:                           0.292   Prob(JB):                     1.20e-14\n",
      "Kurtosis:                       4.419   Cond. No.                         851.\n",
      "==============================================================================\n",
      "\n",
      "Warnings:\n",
      "[1] Standard Errors assume that the covariance matrix of the errors is correctly specified.\n"
     ]
    }
   ],
   "source": [
    "import pandas as pd\n",
    "import numpy as np\n",
    "import statsmodels.api as sm \n",
    "import statsmodels.formula.api as smf\n",
    "import matplotlib.pyplot as plt \n",
    "df = pd.read_csv(\"fev.txt\",delimiter='\t')\n",
    "x=df[['Age','Smoker','Height']]\n",
    "y=df['FEV']\n",
    "model2 = smf.ols(\"y~x\",data=x).fit()\n",
    "print(model2.summary())\n"
   ]
  },
  {
   "cell_type": "markdown",
   "metadata": {},
   "source": [
    "<b>Observations:<br>\n",
    "    The regression equation is<br>\n",
    "<u>fev = -4.6160 + 0.0597 age - 0.1102 smoke+0.1091 height</u>\n",
    "<br>\n",
    "R-Sq = 76.8.7%\tR-Sq(adj) = 76.7%<br>\n",
    "</b>\n"
   ]
  },
  {
   "cell_type": "markdown",
   "metadata": {},
   "source": [
    "# Conclusions:\n",
    "<b>The R-squared adjusted is 76.7% of 2.2 model which is quite significant in Multiple regression model.<br>\n",
    "To obtain the higher accuracey we can use the following algorithm models.<br>\n",
    "1.Decision Tress.<br>\n",
    "2.Random Forest<br>\n",
    "The above problem can be further analysed using other regressions such as Orthogonal regressions Quadratic Regressions and many more.<br>\n",
    "</b>"
   ]
  },
  {
   "cell_type": "markdown",
   "metadata": {},
   "source": [
    "# Results"
   ]
  },
  {
   "cell_type": "markdown",
   "metadata": {},
   "source": [
    "<b>Taking Model 2.2(not taking sex into our model)for same age and height of the person.<u>Those who smoke have 0.1102 less FEV then those who don't smoke.</u></b><br>\n"
   ]
  }
 ],
 "metadata": {
  "kernelspec": {
   "display_name": "Python 3",
   "language": "python",
   "name": "python3"
  },
  "language_info": {
   "codemirror_mode": {
    "name": "ipython",
    "version": 3
   },
   "file_extension": ".py",
   "mimetype": "text/x-python",
   "name": "python",
   "nbconvert_exporter": "python",
   "pygments_lexer": "ipython3",
   "version": "3.7.0"
  }
 },
 "nbformat": 4,
 "nbformat_minor": 2
}
